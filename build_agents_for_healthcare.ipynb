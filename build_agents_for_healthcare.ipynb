{
 "metadata": {
  "language_info": {
   "name": "python"
  },
  "lastEditStatus": {
   "notebookId": "kniipg7n3nofyjrwivfo",
   "authorId": "5965261552741",
   "authorName": "DIVYANSH",
   "authorEmail": "divyansh.saxena1197@proton.me",
   "sessionId": "f3412c23-e6a8-45cf-90b3-1c7c887740fa",
   "lastEditTime": 1745730844396
  }
 },
 "nbformat_minor": 5,
 "nbformat": 4,
 "cells": [
  {
   "cell_type": "markdown",
   "id": "7606090c-fa39-4028-9bf4-7f02640e656a",
   "metadata": {
    "name": "title",
    "collapsed": false
   },
   "source": "# Building Interactive Heathcare Challenges For Hospital Using Snowflake Cortex"
  },
  {
   "cell_type": "markdown",
   "id": "f2924eb3-b4b8-4545-830a-6dfa40cd09f5",
   "metadata": {
    "name": "head_setup",
    "collapsed": false
   },
   "source": "## Create the database, tables and warehouse"
  },
  {
   "cell_type": "code",
   "id": "f0e98135-31b6-420a-9dc2-e4f7d74b10a5",
   "metadata": {
    "language": "python",
    "name": "get_active_session"
   },
   "outputs": [],
   "source": "from snowflake.snowpark.context import get_active_session\nsession = get_active_session()",
   "execution_count": null
  },
  {
   "cell_type": "code",
   "id": "30a7e79d-7e59-40a2-913e-bfadfabffc8b",
   "metadata": {
    "language": "sql",
    "name": "create_workspace"
   },
   "outputs": [],
   "source": "CREATE DATABASE IF NOT EXISTS hospital_challenges_tutorial_db;\n\nCREATE WAREHOUSE IF NOT EXISTS hospital_challenges_tutorial_wh WITH\n     WAREHOUSE_SIZE='X-SMALL'\n     AUTO_SUSPEND = 120\n     AUTO_RESUME = TRUE\n     INITIALLY_SUSPENDED=TRUE;\n\n USE WAREHOUSE hospital_challenges_tutorial_wh;",
   "execution_count": null
  },
  {
   "cell_type": "markdown",
   "id": "ba934b7f-54d3-49a5-bde1-81906c349cbb",
   "metadata": {
    "name": "getting_data",
    "collapsed": false
   },
   "source": "You will use a sample dataset. Download the files directly from your browser by following this link:\n\n[Sample Dataset](https://github.com/divyanshsaxena11/sf_jpr_stug_may25_workshop/tree/main/sample_data)\n"
  },
  {
   "cell_type": "markdown",
   "id": "b9dff3a2-4325-4bc0-bc73-b152f83f22d5",
   "metadata": {
    "name": "load_to_stage",
    "collapsed": false
   },
   "source": "## Load data into Snowflake stage"
  },
  {
   "cell_type": "code",
   "id": "7e3356ed-1281-4880-b8cd-9e4bcaa27340",
   "metadata": {
    "language": "sql",
    "name": "creation_of_stage"
   },
   "outputs": [],
   "source": "CREATE OR REPLACE STAGE hospital_challenges_tutorial_db.public.landing_stg\n    DIRECTORY = (ENABLE = TRUE)\n    ENCRYPTION = (TYPE = 'SNOWFLAKE_SSE');",
   "execution_count": null
  },
  {
   "cell_type": "markdown",
   "id": "5d0a829a-58fa-407f-826c-1a5e0f17f754",
   "metadata": {
    "name": "load_instructions",
    "collapsed": false
   },
   "source": "Now upload the dataset. You can upload the dataset in Snowsight or using SQL. To upload in Snowsight:\n\n1. Sign in to Snowsight.\n\n2. Select Data in the left-side navigation menu.\n\n3. Select your database hospital_challenges_tutorial_db.\n\n4. Select your schema public.\n\n5. Select Stages and select landing_stg.\n\n6. On the top right, Select the + Files button.\n\n7. Drag and drop files into the UI or select Browse to choose a file from the dialog window.\n\n8. Select Upload to upload your files."
  },
  {
   "cell_type": "code",
   "id": "ef956812-e825-40c0-b391-d19a232145c5",
   "metadata": {
    "language": "sql",
    "name": "listing_stage_files"
   },
   "outputs": [],
   "source": "ls @hospital_challenges_tutorial_db.public.landing_stg",
   "execution_count": null
  },
  {
   "cell_type": "code",
   "id": "e9091316-a21b-4ffa-9b0b-a7217b0aec3d",
   "metadata": {
    "language": "sql",
    "name": "validating_session_context"
   },
   "outputs": [],
   "source": "SELECT CURRENT_DATABASE()||'.'||CURRENT_SCHEMA();\n-- if not hospital database then execute below statement\n--USE SCHEMA HOSPITAL_CHALLENGES_TUTORIAL_DB.PUBLIC;",
   "execution_count": null
  },
  {
   "cell_type": "code",
   "id": "e737e301-9351-42d5-8c5a-a1ce0c7bf73d",
   "metadata": {
    "language": "sql",
    "name": "creating_tables_from_stg"
   },
   "outputs": [],
   "source": "CREATE OR REPLACE FILE FORMAT HOSPITAL_CHALLENGES_TUTORIAL_DB.PUBLIC.my_csv_format\n  TYPE = csv\n  FIELD_OPTIONALLY_ENCLOSED_BY = '\"'\n  VALIDATE_UTF8 = TRUE\n  PARSE_HEADER = TRUE\n  ERROR_ON_COLUMN_COUNT_MISMATCH = FALSE;\n\n-- Auto create table with Schema Detection and enable Schema Evolution\nCREATE OR REPLACE TABLE HOSPITAL_CHALLENGES_TUTORIAL_DB.PUBLIC.NOTES\n    USING TEMPLATE (\n        SELECT ARRAY_AGG(OBJECT_CONSTRUCT(*))\n          WITHIN GROUP (ORDER BY order_id)\n        FROM TABLE(\n            INFER_SCHEMA(        \n            LOCATION=>'@hospital_challenges_tutorial_db.public.landing_stg/notes.csv'\n            , FILE_FORMAT => 'my_csv_format'\n            , IGNORE_CASE => TRUE\n\n            \n        )\n    ))\nENABLE_SCHEMA_EVOLUTION = TRUE\n;\n\n-- Auto create table with Schema Detection and enable Schema Evolution\nCREATE OR REPLACE TABLE HOSPITAL_CHALLENGES_TUTORIAL_DB.PUBLIC.ADMISSIONS\n    USING TEMPLATE (\n        SELECT ARRAY_AGG(OBJECT_CONSTRUCT(*))\n          WITHIN GROUP (ORDER BY order_id)\n        FROM TABLE(\n            INFER_SCHEMA(        \n            LOCATION=>'@hospital_challenges_tutorial_db.public.landing_stg/admissions.csv'\n            , FILE_FORMAT => 'my_csv_format'\n            , IGNORE_CASE => TRUE\n        )\n    ))\nENABLE_SCHEMA_EVOLUTION = TRUE;\n\n-- Auto create table with Schema Detection and enable Schema Evolution\nCREATE OR REPLACE TABLE HOSPITAL_CHALLENGES_TUTORIAL_DB.PUBLIC.PATIENTS\n    USING TEMPLATE (\n        SELECT ARRAY_AGG(OBJECT_CONSTRUCT(*))\n          WITHIN GROUP (ORDER BY order_id)\n        FROM TABLE(\n            INFER_SCHEMA(        \n            LOCATION=>'@hospital_challenges_tutorial_db.public.landing_stg/patients.csv'\n            , FILE_FORMAT => 'my_csv_format'\n            , IGNORE_CASE => TRUE\n        )\n    ))\nENABLE_SCHEMA_EVOLUTION = TRUE;\n\n-- Auto create table with Schema Detection and enable Schema Evolution\nCREATE OR REPLACE TABLE HOSPITAL_CHALLENGES_TUTORIAL_DB.PUBLIC.WARD_OCCUPANCY\n    USING TEMPLATE (\n        SELECT ARRAY_AGG(OBJECT_CONSTRUCT(*))\n          WITHIN GROUP (ORDER BY order_id)\n        FROM TABLE(\n            INFER_SCHEMA(        \n            LOCATION=>'@hospital_challenges_tutorial_db.public.landing_stg/ward_occupancy.csv'\n            , FILE_FORMAT => 'my_csv_format'\n            , IGNORE_CASE => TRUE\n        )\n    ))\nENABLE_SCHEMA_EVOLUTION = TRUE;\n\n-- Auto create table with Schema Detection and enable Schema Evolution\nCREATE OR REPLACE TABLE HOSPITAL_CHALLENGES_TUTORIAL_DB.PUBLIC.TREATMENT_SUMMARY\n    USING TEMPLATE (\n        SELECT ARRAY_AGG(OBJECT_CONSTRUCT(*))\n          WITHIN GROUP (ORDER BY order_id)\n        FROM TABLE(\n            INFER_SCHEMA(        \n            LOCATION=>'@hospital_challenges_tutorial_db.public.landing_stg/treatment_summary.csv'\n            , FILE_FORMAT => 'my_csv_format'\n            , IGNORE_CASE => TRUE\n        )\n    ))\nENABLE_SCHEMA_EVOLUTION = TRUE;\n\nALTER TABLE TREATMENT_SUMMARY \nADD COLUMN \n  FILENAME string, \n  FILE_LAST_MODIFIED timestamp_ntz, \n  FILE_SCAN_TIME timestamp_ltz;\n\nALTER TABLE WARD_OCCUPANCY \nADD COLUMN \n  FILENAME string, \n  FILE_LAST_MODIFIED timestamp_ntz, \n  FILE_SCAN_TIME timestamp_ltz;\n\nALTER TABLE PATIENTS \nADD COLUMN \n  FILENAME string, \n  FILE_LAST_MODIFIED timestamp_ntz, \n  FILE_SCAN_TIME timestamp_ltz;\n\nALTER TABLE ADMISSIONS \nADD COLUMN \n  FILENAME string, \n  FILE_LAST_MODIFIED timestamp_ntz, \n  FILE_SCAN_TIME timestamp_ltz;\n\nALTER TABLE NOTES \nADD COLUMN \n  FILENAME string, \n  FILE_LAST_MODIFIED timestamp_ntz, \n  FILE_SCAN_TIME timestamp_ltz;",
   "execution_count": null
  },
  {
   "cell_type": "code",
   "id": "9a25a454-a3dd-4386-9d8a-550765682ad3",
   "metadata": {
    "language": "sql",
    "name": "copy_into_tables",
    "codeCollapsed": false
   },
   "outputs": [],
   "source": "COPY INTO HOSPITAL_CHALLENGES_TUTORIAL_DB.PUBLIC.NOTES\n  FROM @hospital_challenges_tutorial_db.public.landing_stg/notes.csv\n  FILE_FORMAT = 'my_csv_format'\n  ON_ERROR = CONTINUE\n  MATCH_BY_COLUMN_NAME = CASE_INSENSITIVE\n  INCLUDE_METADATA = (\n    FILENAME=METADATA$FILENAME, \n    FILE_LAST_MODIFIED=METADATA$FILE_LAST_MODIFIED, \n    FILE_SCAN_TIME=METADATA$START_SCAN_TIME);\n\nCOPY INTO HOSPITAL_CHALLENGES_TUTORIAL_DB.PUBLIC.ADMISSIONS\n  FROM @hospital_challenges_tutorial_db.public.landing_stg/admissions.csv\n  FILE_FORMAT = 'my_csv_format'\n  ON_ERROR = CONTINUE\n  MATCH_BY_COLUMN_NAME = CASE_INSENSITIVE\n  INCLUDE_METADATA = (\n    FILENAME=METADATA$FILENAME, \n    FILE_LAST_MODIFIED=METADATA$FILE_LAST_MODIFIED, \n    FILE_SCAN_TIME=METADATA$START_SCAN_TIME);\n\nCOPY INTO HOSPITAL_CHALLENGES_TUTORIAL_DB.PUBLIC.PATIENTS\n  FROM @hospital_challenges_tutorial_db.public.landing_stg/patients.csv\n  FILE_FORMAT = 'my_csv_format'\n  ON_ERROR = CONTINUE\n  MATCH_BY_COLUMN_NAME = CASE_INSENSITIVE\n  INCLUDE_METADATA = (\n    FILENAME=METADATA$FILENAME, \n    FILE_LAST_MODIFIED=METADATA$FILE_LAST_MODIFIED, \n    FILE_SCAN_TIME=METADATA$START_SCAN_TIME);\n\nCOPY INTO HOSPITAL_CHALLENGES_TUTORIAL_DB.PUBLIC.WARD_OCCUPANCY\n  FROM @hospital_challenges_tutorial_db.public.landing_stg/ward_occupancy.csv\n  FILE_FORMAT = 'my_csv_format'\n  ON_ERROR = CONTINUE\n  MATCH_BY_COLUMN_NAME = CASE_INSENSITIVE\n  INCLUDE_METADATA = (\n    FILENAME=METADATA$FILENAME, \n    FILE_LAST_MODIFIED=METADATA$FILE_LAST_MODIFIED, \n    FILE_SCAN_TIME=METADATA$START_SCAN_TIME);\n\nCOPY INTO HOSPITAL_CHALLENGES_TUTORIAL_DB.PUBLIC.TREATMENT_SUMMARY\n  FROM @hospital_challenges_tutorial_db.public.landing_stg/treatment_summary.csv\n  FILE_FORMAT = 'my_csv_format'\n  ON_ERROR = CONTINUE\n  MATCH_BY_COLUMN_NAME = CASE_INSENSITIVE\n  INCLUDE_METADATA = (\n    FILENAME=METADATA$FILENAME, \n    FILE_LAST_MODIFIED=METADATA$FILE_LAST_MODIFIED, \n    FILE_SCAN_TIME=METADATA$START_SCAN_TIME);\n",
   "execution_count": null
  },
  {
   "cell_type": "code",
   "id": "7482467d-35a9-4823-8c88-907e6724ec98",
   "metadata": {
    "language": "sql",
    "name": "dynamic_table_for_consumption",
    "codeCollapsed": false
   },
   "outputs": [],
   "source": "CREATE OR REPLACE DYNAMIC TABLE HOSPITAL_CHALLENGES_TUTORIAL_DB.PUBLIC.PATIENT_REPORT\nTARGET_LAG = '20 minutes'\n  REFRESH_MODE = auto\n  WAREHOUSE = hospital_challenges_tutorial_wh\n  INITIALIZE = on_create\nAS\nSELECT\nP.PATIENT_ID,\nP.NAME,\nP.AGE,\nP.CONDITION,\nP.STATUS,\nA.ADMISSION_ID,\nA.WARD,\nA.REASON,\nA.ADMISSION_TIME,\nA.DISCHARGE_DATE,\nN.NOTE_ID,\nN.NOTE_TEXT,\nN.NOTE_TIME,\nT.DRUG_NAME,\nT.START_DATE,\nT.END_DATE,\nT.OUTCOME,\nFROM HOSPITAL_CHALLENGES_TUTORIAL_DB.PUBLIC.PATIENTS P\nJOIN HOSPITAL_CHALLENGES_TUTORIAL_DB.PUBLIC.ADMISSIONS A ON P.PATIENT_ID = A.PATIENT_ID\nJOIN HOSPITAL_CHALLENGES_TUTORIAL_DB.PUBLIC.NOTES N ON P.PATIENT_ID = N.PATIENT_ID\nJOIN HOSPITAL_CHALLENGES_TUTORIAL_DB.PUBLIC.TREATMENT_SUMMARY T ON P.PATIENT_ID = T.PATIENT_ID;",
   "execution_count": null
  },
  {
   "cell_type": "code",
   "id": "9bb9108c-4392-4bbf-8e14-2da44683781f",
   "metadata": {
    "language": "sql",
    "name": "querying_data"
   },
   "outputs": [],
   "source": "select * from HOSPITAL_CHALLENGES_TUTORIAL_DB.PUBLIC.PATIENT_REPORT LIMIT 10;",
   "execution_count": null
  },
  {
   "cell_type": "code",
   "id": "fcfa66cc-61a1-4a52-813a-e0f8acd1d5f6",
   "metadata": {
    "language": "sql",
    "name": "enabling_cross_region_cortex_inference"
   },
   "outputs": [],
   "source": "ALTER ACCOUNT SET CORTEX_ENABLED_CROSS_REGION = 'AWS_US';",
   "execution_count": null
  },
  {
   "cell_type": "code",
   "id": "c6853378-af99-4bd0-9a03-ce86adbd33e2",
   "metadata": {
    "language": "sql",
    "name": "parsing_invoices",
    "codeCollapsed": false
   },
   "outputs": [],
   "source": "CREATE OR REPLACE TABLE hospital_challenges_tutorial_db.PUBLIC.PARSED_STUDY_GUIDES AS \nSELECT \n      relative_path,\n      TO_VARCHAR(\n        SNOWFLAKE.CORTEX.PARSE_DOCUMENT(\n          @hospital_challenges_tutorial_db.public.landing_stg, \n          relative_path, \n          {'mode': 'LAYOUT'}\n        ) :content\n      ) AS parsed_text\n    FROM directory(@hospital_challenges_tutorial_db.public.landing_stg)\n    WHERE relative_path ILIKE '%guides.pdf'",
   "execution_count": null
  },
  {
   "cell_type": "code",
   "id": "b0c09360-af5f-4f7f-a884-bb43511c0e94",
   "metadata": {
    "language": "sql",
    "name": "querying_data_invoices"
   },
   "outputs": [],
   "source": "SELECT * ,\nFROM hospital_challenges_tutorial_db.PUBLIC.PARSED_STUDY_GUIDES limit 10;",
   "execution_count": null
  },
  {
   "cell_type": "code",
   "id": "7acb1b76-61d9-4da2-b0a1-938d3c133e4c",
   "metadata": {
    "language": "sql",
    "name": "chunking_data"
   },
   "outputs": [],
   "source": "CREATE OR REPLACE TABLE hospital_challenges_tutorial_db.PUBLIC.CHUNK_PARSED_STUDY_GUIDES\n(FILE_NAME VARCHAR, CHUNK VARCHAR);\n\nINSERT INTO hospital_challenges_tutorial_db.PUBLIC.CHUNK_PARSED_STUDY_GUIDES (file_name, CHUNK)\nSELECT\n    relative_path,\n    c.value AS CHUNK\nFROM\n    hospital_challenges_tutorial_db.PUBLIC.PARSED_STUDY_GUIDES,\n    LATERAL FLATTEN( input => SNOWFLAKE.CORTEX.SPLIT_TEXT_RECURSIVE_CHARACTER (\n        parsed_text,\n        'markdown',\n        1800,\n        250\n    )) c;\n\n",
   "execution_count": null
  },
  {
   "cell_type": "code",
   "id": "cc6ed8c2-0d0f-4a9a-8c5e-4e9636b11e9d",
   "metadata": {
    "language": "sql",
    "name": "testing_chunks"
   },
   "outputs": [],
   "source": "select * from hospital_challenges_tutorial_db.PUBLIC.CHUNK_PARSED_STUDY_GUIDES limit 10;",
   "execution_count": null
  },
  {
   "cell_type": "code",
   "id": "a0ed8422-92a1-43e3-947f-907a9319ebb3",
   "metadata": {
    "language": "sql",
    "name": "creation_of_search_service"
   },
   "outputs": [],
   "source": "CREATE OR REPLACE CORTEX SEARCH SERVICE hospital_challenges_tutorial_db.PUBLIC.STUDY_GUIDE_SEARCH_SERVICE\n    ON CHUNK\n    WAREHOUSE = hospital_challenges_tutorial_wh\n    TARGET_LAG = '1 minute'\n    EMBEDDING_MODEL = 'snowflake-arctic-embed-l-v2.0'\n    AS (\n    SELECT\n        *\n    FROM hospital_challenges_tutorial_db.PUBLIC.CHUNK_PARSED_STUDY_GUIDES\n    );",
   "execution_count": null
  },
  {
   "cell_type": "code",
   "id": "d9a468af-0f0b-4032-9b57-0c2ac1527139",
   "metadata": {
    "language": "sql",
    "name": "describe_search_service",
    "codeCollapsed": false
   },
   "outputs": [],
   "source": "describe cortex search service hospital_challenges_tutorial_db.PUBLIC.STUDY_GUIDE_SEARCH_SERVICE",
   "execution_count": null
  },
  {
   "cell_type": "code",
   "id": "65dea695-9b99-4aea-9388-d28b6b7ce9b5",
   "metadata": {
    "language": "sql",
    "name": "testing_search_service",
    "codeCollapsed": false
   },
   "outputs": [],
   "source": "SELECT PARSE_JSON(\n  SNOWFLAKE.CORTEX.SEARCH_PREVIEW(\n      'hospital_challenges_tutorial_db.PUBLIC.STUDY_GUIDE_SEARCH_SERVICE',\n      '{\n        \"query\": \"Insulin\",\n        \"columns\":[\n            \"file_name\",\n            \"chunk\"\n        ],\n        \"limit\":4\n      }'\n  )\n)['results'] as results;",
   "execution_count": null
  }
 ]
}